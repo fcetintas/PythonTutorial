{
 "cells": [
  {
   "cell_type": "code",
   "execution_count": 1,
   "metadata": {},
   "outputs": [],
   "source": [
    "#Compound Data Types\n",
    "\n",
    "#Tuples\n",
    "#Tuples are Immutable\n",
    "x = (\"abc\",\"def\",\"ghi\")\n",
    "y = ( 1 , 2 , 3 )\n",
    "\n",
    "#Sample of swap turple values\n",
    "temp = x\n",
    "x = y\n",
    "y = temp\n",
    "\n",
    "#Practical way of swap values\n",
    "( x , y ) = ( y , x )"
   ]
  },
  {
   "cell_type": "code",
   "execution_count": 10,
   "metadata": {},
   "outputs": [
    {
     "name": "stdout",
     "output_type": "stream",
     "text": [
      "[1, 4, 5, 6, 7]\n"
     ]
    }
   ],
   "source": [
    "#Lists\n",
    "#Lists are mutable\n",
    "a = [1,2,3,4,5]\n",
    "#Adding element to list\n",
    "a.append(6)\n",
    "#populating list with another list\n",
    "a.extend([7,8])\n",
    "#Deleting element from list\n",
    "a.pop() #Deletes the last element\n",
    "del(a[1]) #Deletes element specified with index\n",
    "a.remove(3) #Deletes specified element from the list"
   ]
  },
  {
   "cell_type": "code",
   "execution_count": 12,
   "metadata": {},
   "outputs": [
    {
     "name": "stdout",
     "output_type": "stream",
     "text": [
      "['red', 'yellow', 'orange', 'pink']\n",
      "['red', 'yellow', 'orange', 'pink']\n",
      "['blue', 'green', 'grey', 'black']\n",
      "['blue', 'green', 'grey']\n"
     ]
    }
   ],
   "source": [
    "#Aliases\n",
    "# One of sideeffect of using list is that, changes on one list effect alias of it!\n",
    "warm = [\"red\",\"yellow\",\"orange\"]\n",
    "hot = warm\n",
    "hot.append(\"pink\")\n",
    "print(hot)\n",
    "print(warm)\n",
    "#Solution is cloning list\n",
    "cool = [\"blue\",\"green\",\"grey\"]\n",
    "chill = cool[:] #Means, copy elements and create new list\n",
    "chill.append('black')\n",
    "print(chill)\n",
    "print(cool)\n"
   ]
  },
  {
   "cell_type": "code",
   "execution_count": 13,
   "metadata": {},
   "outputs": [
    {
     "name": "stdout",
     "output_type": "stream",
     "text": [
      "['orange', 'red', 'yellow']\n"
     ]
    },
    {
     "ename": "NameError",
     "evalue": "name 'shortedwarm' is not defined",
     "output_type": "error",
     "traceback": [
      "\u001b[0;31m---------------------------------------------------------------------------\u001b[0m",
      "\u001b[0;31mNameError\u001b[0m                                 Traceback (most recent call last)",
      "\u001b[0;32m<ipython-input-13-8b3f52be4c89>\u001b[0m in \u001b[0;36m<module>\u001b[0;34m\u001b[0m\n\u001b[1;32m      3\u001b[0m \u001b[0mshortedWarm\u001b[0m \u001b[0;34m=\u001b[0m \u001b[0mwarm\u001b[0m\u001b[0;34m.\u001b[0m\u001b[0msort\u001b[0m\u001b[0;34m(\u001b[0m\u001b[0;34m)\u001b[0m\u001b[0;34m\u001b[0m\u001b[0;34m\u001b[0m\u001b[0m\n\u001b[1;32m      4\u001b[0m \u001b[0mprint\u001b[0m\u001b[0;34m(\u001b[0m\u001b[0mwarm\u001b[0m\u001b[0;34m)\u001b[0m\u001b[0;34m\u001b[0m\u001b[0;34m\u001b[0m\u001b[0m\n\u001b[0;32m----> 5\u001b[0;31m \u001b[0mprint\u001b[0m\u001b[0;34m(\u001b[0m\u001b[0mshortedwarm\u001b[0m\u001b[0;34m)\u001b[0m\u001b[0;34m\u001b[0m\u001b[0;34m\u001b[0m\u001b[0m\n\u001b[0m\u001b[1;32m      6\u001b[0m \u001b[0;34m\u001b[0m\u001b[0m\n\u001b[1;32m      7\u001b[0m \u001b[0mcool\u001b[0m \u001b[0;34m=\u001b[0m \u001b[0;34m[\u001b[0m\u001b[0;34m\"grey\"\u001b[0m\u001b[0;34m,\u001b[0m\u001b[0;34m\"green\"\u001b[0m\u001b[0;34m,\u001b[0m\u001b[0;34m\"blue\"\u001b[0m\u001b[0;34m]\u001b[0m\u001b[0;34m\u001b[0m\u001b[0;34m\u001b[0m\u001b[0m\n",
      "\u001b[0;31mNameError\u001b[0m: name 'shortedwarm' is not defined"
     ]
    }
   ],
   "source": [
    "#Differance of sort() and sorted()\n",
    "warm = [\"red\",\"yellow\",\"orange\"]\n",
    "shortedWarm = warm.sort()\n",
    "print(warm)\n",
    "print(sortedwarm)\n",
    "\n",
    "cool = [\"grey\",\"green\",\"blue\"]\n",
    "ssortedcool = sorted(cool)\n",
    "print(cool)\n",
    "print(sortedcool)"
   ]
  },
  {
   "cell_type": "code",
   "execution_count": null,
   "metadata": {},
   "outputs": [],
   "source": []
  }
 ],
 "metadata": {
  "kernelspec": {
   "display_name": "Python 3",
   "language": "python",
   "name": "python3"
  },
  "language_info": {
   "codemirror_mode": {
    "name": "ipython",
    "version": 3
   },
   "file_extension": ".py",
   "mimetype": "text/x-python",
   "name": "python",
   "nbconvert_exporter": "python",
   "pygments_lexer": "ipython3",
   "version": "3.7.2"
  }
 },
 "nbformat": 4,
 "nbformat_minor": 2
}

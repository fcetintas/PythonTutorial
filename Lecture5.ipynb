{
 "cells": [
  {
   "cell_type": "code",
   "execution_count": 1,
   "metadata": {},
   "outputs": [],
   "source": [
    "#Compound Data Types\n",
    "\n",
    "#Tuples\n",
    "#Tuples are Immutable\n",
    "x = (\"abc\",\"def\",\"ghi\")\n",
    "y = ( 1 , 2 , 3 )\n",
    "\n",
    "#Sample of swap turple values\n",
    "temp = x\n",
    "x = y\n",
    "y = temp\n",
    "\n",
    "#Practical way of swap values\n",
    "( x , y ) = ( y , x )"
   ]
  },
  {
   "cell_type": "code",
   "execution_count": 10,
   "metadata": {},
   "outputs": [
    {
     "name": "stdout",
     "output_type": "stream",
     "text": [
      "[1, 4, 5, 6, 7]\n"
     ]
    }
   ],
   "source": [
    "#Lists\n",
    "#Lists are mutable\n",
    "a = [1,2,3,4,5]\n",
    "#Adding element to list\n",
    "a.append(6)\n",
    "#populating list with another list\n",
    "a.extend([7,8])\n",
    "#Deleting element from list\n",
    "a.pop() #Deletes the last element\n",
    "del(a[1]) #Deletes element specified with index\n",
    "a.remove(3) #Deletes specified element from the list"
   ]
  },
  {
   "cell_type": "code",
   "execution_count": 12,
   "metadata": {},
   "outputs": [
    {
     "name": "stdout",
     "output_type": "stream",
     "text": [
      "['red', 'yellow', 'orange', 'pink']\n",
      "['red', 'yellow', 'orange', 'pink']\n",
      "['blue', 'green', 'grey', 'black']\n",
      "['blue', 'green', 'grey']\n"
     ]
    }
   ],
   "source": [
    "#Aliases\n",
    "# One of sideeffect of using list is that, changes on one list effect alias of it!\n",
    "warm = [\"red\",\"yellow\",\"orange\"]\n",
    "hot = warm\n",
    "hot.append(\"pink\")\n",
    "print(hot)\n",
    "print(warm)\n",
    "#Solution is cloning list\n",
    "cool = [\"blue\",\"green\",\"grey\"]\n",
    "chill = cool[:] #Means, copy elements and create new list\n",
    "chill.append('black')\n",
    "print(chill)\n",
    "print(cool)\n"
   ]
  },
  {
   "cell_type": "code",
   "execution_count": 17,
   "metadata": {},
   "outputs": [
    {
     "name": "stdout",
     "output_type": "stream",
     "text": [
      "['orange', 'red', 'yellow']\n",
      "None\n",
      "['grey', 'green', 'blue']\n",
      "['blue', 'green', 'grey']\n"
     ]
    }
   ],
   "source": [
    "#Differance of sort() and sorted()\n",
    "warm = [\"red\",\"yellow\",\"orange\"]\n",
    "sortedWarm = warm.sort()# mutates warm object and return None\n",
    "print(warm)\n",
    "print(sortedWarm)\n",
    "\n",
    "cool = [\"grey\",\"green\",\"blue\"]\n",
    "sortedCool = sorted(cool)# does not mutate cool object and returns sorted list\n",
    "print(cool)\n",
    "print(sortedCool)"
   ]
  },
  {
   "cell_type": "code",
   "execution_count": null,
   "metadata": {},
   "outputs": [],
   "source": []
  }
 ],
 "metadata": {
  "kernelspec": {
   "display_name": "Python 3",
   "language": "python",
   "name": "python3"
  },
  "language_info": {
   "codemirror_mode": {
    "name": "ipython",
    "version": 3
   },
   "file_extension": ".py",
   "mimetype": "text/x-python",
   "name": "python",
   "nbconvert_exporter": "python",
   "pygments_lexer": "ipython3",
   "version": "3.7.2"
  }
 },
 "nbformat": 4,
 "nbformat_minor": 2
}

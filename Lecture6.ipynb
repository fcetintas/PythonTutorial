{
 "cells": [
  {
   "cell_type": "code",
   "execution_count": 1,
   "metadata": {},
   "outputs": [],
   "source": [
    "#RECURSION\n",
    "#Sample 1\n",
    "def mult(a,b):\n",
    "    if b == 1:\n",
    "        return a\n",
    "    else:\n",
    "        return a + mult(a, b-1)"
   ]
  },
  {
   "cell_type": "code",
   "execution_count": 2,
   "metadata": {},
   "outputs": [
    {
     "name": "stdout",
     "output_type": "stream",
     "text": [
      "24\n"
     ]
    }
   ],
   "source": [
    "#Sample 2\n",
    "def fact(n):\n",
    "    if n == 1:\n",
    "        return 1\n",
    "    else:\n",
    "        return n * fact( n - 1 )\n",
    "print(fact(4))"
   ]
  },
  {
   "cell_type": "code",
   "execution_count": 1,
   "metadata": {},
   "outputs": [
    {
     "data": {
      "text/plain": [
       "21"
      ]
     },
     "execution_count": 1,
     "metadata": {},
     "output_type": "execute_result"
    }
   ],
   "source": [
    "def fib(x):\n",
    "    \"\"\"\n",
    "        assumes x an int >= 0\n",
    "        returns Fibonacci of x\n",
    "    \"\"\"\n",
    "    if x == 0 : \n",
    "        return 0\n",
    "    elif x == 1:\n",
    "        return 1\n",
    "    else:\n",
    "        return fib(x-1) + fib(x-2)\n",
    "\n",
    "fib(8)"
   ]
  },
  {
   "cell_type": "code",
   "execution_count": 7,
   "metadata": {},
   "outputs": [
    {
     "data": {
      "text/plain": [
       "True"
      ]
     },
     "execution_count": 7,
     "metadata": {},
     "output_type": "execute_result"
    }
   ],
   "source": [
    "#Sample of recursive on string\n",
    "def isPalindrome(s):\n",
    "    def toChars(s):\n",
    "        s = s.lower()\n",
    "        ans = ''\n",
    "        for c in s:\n",
    "            if c in 'abcdefghijklmnoprstuvwxyz':\n",
    "                ans = ans + c\n",
    "        return ans\n",
    "    def isPal(s):\n",
    "        if len(s) <= 1 :\n",
    "            return True\n",
    "        else:\n",
    "            return s[0] == s[-1] and isPal(s[1:-1])\n",
    "    return(isPal(toChars(s)))\n",
    "\n",
    "isPalindrome(\"rotator\")"
   ]
  },
  {
   "cell_type": "code",
   "execution_count": 15,
   "metadata": {},
   "outputs": [
    {
     "name": "stdout",
     "output_type": "stream",
     "text": [
      "A+\n",
      "A++\n",
      "True\n",
      "False\n",
      "dict_keys(['Ali', 'Ana', 'Denise', 'John'])\n",
      "dict_values(['B', 'A+', 'C', 'A'])\n"
     ]
    }
   ],
   "source": [
    "#DICTIONARY\n",
    "samp_dict = {} # Empty Dictionary\n",
    "grades = {'Ali':'B', 'Ana':'A+','Denise':'C', 'John':'A'}\n",
    "print(grades['Ana'])\n",
    "#Adding Label\n",
    "grades['Furkan']= 'A++'\n",
    "print(grades['Furkan'])\n",
    "#testing if label exists\n",
    "print('Furkan' in grades)\n",
    "#deleting label\n",
    "del(grades['Furkan'])\n",
    "print('Furkan' in grades)\n",
    "#Gatherr  all keys\n",
    "print(grades.keys())\n",
    "#Gatherr  all values\n",
    "print(grades.values())"
   ]
  },
  {
   "cell_type": "code",
   "execution_count": null,
   "metadata": {},
   "outputs": [],
   "source": []
  }
 ],
 "metadata": {
  "kernelspec": {
   "display_name": "Python 3",
   "language": "python",
   "name": "python3"
  },
  "language_info": {
   "codemirror_mode": {
    "name": "ipython",
    "version": 3
   },
   "file_extension": ".py",
   "mimetype": "text/x-python",
   "name": "python",
   "nbconvert_exporter": "python",
   "pygments_lexer": "ipython3",
   "version": "3.7.2"
  }
 },
 "nbformat": 4,
 "nbformat_minor": 2
}

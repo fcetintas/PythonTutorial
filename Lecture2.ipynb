{
 "cells": [
  {
   "cell_type": "code",
   "execution_count": 4,
   "metadata": {},
   "outputs": [
    {
     "name": "stdout",
     "output_type": "stream",
     "text": [
      "hello therefurkan\n",
      "hello there furkan furkan furkan\n"
     ]
    }
   ],
   "source": [
    "hi = \"hello there\"\n",
    "\n",
    "#Concatenate String\n",
    "name = \"furkan\"\n",
    "greet = hi + name\n",
    "print(greet)\n",
    "greeting  = hi + (\" \" + name) * 3\n",
    "print(greeting)"
   ]
  },
  {
   "cell_type": "code",
   "execution_count": 6,
   "metadata": {},
   "outputs": [
    {
     "name": "stdout",
     "output_type": "stream",
     "text": [
      "number is 1 1\n",
      "number is11\n"
     ]
    }
   ],
   "source": [
    "x = 1\n",
    "x_str = str(x)\n",
    "#Comma usage inside print\n",
    "print(\"number is\",x,x_str)\n",
    "#plus sign usage inside print\n",
    "print(\"number is\"+x_str+x_str)"
   ]
  },
  {
   "cell_type": "code",
   "execution_count": 7,
   "metadata": {},
   "outputs": [
    {
     "name": "stdout",
     "output_type": "stream",
     "text": [
      "type something...ha\n",
      "haha\n",
      "Type some number...5\n",
      "10\n"
     ]
    }
   ],
   "source": [
    "# input things\n",
    "text = input(\"type something...\") # input returns string\n",
    "print(2*text)\n",
    "#for other type of variables, you must cast it to them\n",
    "num = int(input(\"Type some number...\"))\n",
    "print(2*num)"
   ]
  },
  {
   "cell_type": "code",
   "execution_count": 11,
   "metadata": {},
   "outputs": [
    {
     "name": "stdout",
     "output_type": "stream",
     "text": [
      "False\n",
      "True\n"
     ]
    }
   ],
   "source": [
    "#Comparison Operators int, float, string\n",
    "print( 5 > 6 )\n",
    "print( \"hello\" == \"hello\")\n"
   ]
  },
  {
   "cell_type": "code",
   "execution_count": 12,
   "metadata": {},
   "outputs": [
    {
     "name": "stdout",
     "output_type": "stream",
     "text": [
      "Enter some number for x : 0.657\n",
      "Enter some number for y : 0.555\n",
      "x is grater than y\n",
      "thanks!\n"
     ]
    }
   ],
   "source": [
    "#If consition usage\n",
    "x = float(input(\"Enter some number for x : \"))\n",
    "y = float(input(\"Enter some number for y : \"))\n",
    "\n",
    "if x==y : \n",
    "    print(\"x and y values are equal\")\n",
    "elif x > y : \n",
    "    print(\"x is grater than y\")\n",
    "else: \n",
    "    print(\"y is greater than x\")\n",
    "print(\"thanks!\")"
   ]
  },
  {
   "cell_type": "code",
   "execution_count": 13,
   "metadata": {},
   "outputs": [
    {
     "name": "stdout",
     "output_type": "stream",
     "text": [
      "You're in the Lost Forest. Go left or right ? right\n",
      "You're in the Lost Forest. Go left or right ? right\n",
      "You're in the Lost Forest. Go left or right ? left\n",
      "You got out of the Lost Forest!\n"
     ]
    }
   ],
   "source": [
    "# while loop\n",
    "n = input(\"You're in the Lost Forest. Go left or right ? \")\n",
    "while n == \"right\":\n",
    "    n = input(\"You're in the Lost Forest. Go left or right ? \")\n",
    "print(\"You got out of the Lost Forest!\")"
   ]
  },
  {
   "cell_type": "code",
   "execution_count": 15,
   "metadata": {},
   "outputs": [
    {
     "name": "stdout",
     "output_type": "stream",
     "text": [
      "n is : 0\n",
      "n is : 1\n",
      "n is : 2\n",
      "n is : 3\n",
      "n is : 4\n"
     ]
    }
   ],
   "source": [
    "# for loop\n",
    "\n",
    "for n in range(5):\n",
    "    print(\"n is :\",n)"
   ]
  },
  {
   "cell_type": "code",
   "execution_count": 16,
   "metadata": {},
   "outputs": [
    {
     "name": "stdout",
     "output_type": "stream",
     "text": [
      "i is 5\n",
      "i is 7\n",
      "i is 9\n",
      "i is 11\n",
      "i is 13\n",
      "i is 15\n",
      "i is 17\n",
      "i is 19\n"
     ]
    }
   ],
   "source": [
    "# for loop with customized range range(start,stop,step)\n",
    "\n",
    "for i in range(5,20,2):\n",
    "    print(\"i is \"+ str(i))"
   ]
  },
  {
   "cell_type": "code",
   "execution_count": null,
   "metadata": {},
   "outputs": [],
   "source": []
  }
 ],
 "metadata": {
  "kernelspec": {
   "display_name": "Python 3",
   "language": "python",
   "name": "python3"
  },
  "language_info": {
   "codemirror_mode": {
    "name": "ipython",
    "version": 3
   },
   "file_extension": ".py",
   "mimetype": "text/x-python",
   "name": "python",
   "nbconvert_exporter": "python",
   "pygments_lexer": "ipython3",
   "version": "3.7.2"
  }
 },
 "nbformat": 4,
 "nbformat_minor": 2
}

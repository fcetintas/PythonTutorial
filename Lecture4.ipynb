{
 "cells": [
  {
   "cell_type": "code",
   "execution_count": null,
   "metadata": {},
   "outputs": [],
   "source": [
    "def sampleFunction(i):\n",
    "    \"\"\"\n",
    "    Explanation of function\n",
    "    \"\"\"\n",
    "    \n",
    "    #do Something\n",
    "    \n",
    "    #return something\n",
    "    return true\n",
    "    \n",
    "def is_even(i):\n",
    "    \"\"\"\n",
    "    Input : i, a positive int\n",
    "    Returns True if i is even, otherwise False\n",
    "    \"\"\"\n",
    "    #do Something\n",
    "    remainder = i % 2\n",
    "\n",
    "    #return something\n",
    "    return remainder == 0\n",
    "\n",
    "\n",
    "print(\"Even?\",is_even(5))\n",
    "print(\"Even?\",is_even(6))\n",
    "     "
   ]
  },
  {
   "cell_type": "code",
   "execution_count": null,
   "metadata": {},
   "outputs": [],
   "source": [
    "# Default return value is None\n",
    "def functWithoutReturnStatement( x ):\n",
    "    \"\"\"\n",
    "    \n",
    "    \"\"\"\n",
    "    \n",
    "\n",
    "print(functWithoutReturnStatement(5))\n",
    "    "
   ]
  },
  {
   "cell_type": "code",
   "execution_count": null,
   "metadata": {},
   "outputs": [],
   "source": [
    "#SCOPE EXAMPLE\n",
    "def f(y):\n",
    "    x = 1\n",
    "    x += 1\n",
    "    print(\"Inside Function Scope f, x value =\",x)\n",
    "    \n",
    "x = 5\n",
    "f( x )\n",
    "print(\"Outside Function Scope f, x value =\",x)"
   ]
  },
  {
   "cell_type": "code",
   "execution_count": null,
   "metadata": {},
   "outputs": [],
   "source": [
    "#If variable is not defined inside scope, Python could use parent's scope variable\n",
    "def g(y):\n",
    "    print(\"Inside function scope g, x value = \",x)\n",
    "    print(\"Inside function scope g, x+1 value = \",x+1)\n",
    "    \n",
    "x = 5\n",
    "g(x)\n",
    "print(\"Outside function scope g, x value = \",x)"
   ]
  },
  {
   "cell_type": "code",
   "execution_count": null,
   "metadata": {},
   "outputs": [],
   "source": [
    "# We cannot assign any value or update parent scope's variable!!!\n",
    "# This code will give error\n",
    "def h(y):\n",
    "    x += 1\n",
    "    \n",
    "x = 5\n",
    "h(x)\n",
    "print(x)"
   ]
  },
  {
   "cell_type": "code",
   "execution_count": 1,
   "metadata": {},
   "outputs": [
    {
     "name": "stdout",
     "output_type": "stream",
     "text": [
      "g: x = 4\n"
     ]
    }
   ],
   "source": [
    "# Nested Function\n",
    "def g(x):\n",
    "    def h():\n",
    "        x = 'abc'\n",
    "    x = x + 1\n",
    "    print('g: x =', x)\n",
    "    h()\n",
    "    return x\n",
    "x = 3\n",
    "x = g(x)\n",
    "print(\"Glo\")"
   ]
  },
  {
   "cell_type": "code",
   "execution_count": null,
   "metadata": {},
   "outputs": [],
   "source": []
  }
 ],
 "metadata": {
  "kernelspec": {
   "display_name": "Python 3",
   "language": "python",
   "name": "python3"
  },
  "language_info": {
   "codemirror_mode": {
    "name": "ipython",
    "version": 3
   },
   "file_extension": ".py",
   "mimetype": "text/x-python",
   "name": "python",
   "nbconvert_exporter": "python",
   "pygments_lexer": "ipython3",
   "version": "3.7.2"
  }
 },
 "nbformat": 4,
 "nbformat_minor": 2
}
